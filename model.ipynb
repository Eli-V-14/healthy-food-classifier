{
 "cells": [
  {
   "cell_type": "code",
   "execution_count": 4,
   "id": "c1feeb09",
   "metadata": {},
   "outputs": [],
   "source": [
    "# Import Statements\n",
    "import numpy as np\n",
    "import pandas as pd\n",
    "import tensorflow as tf\n",
    "import keras\n",
    "import cv2"
   ]
  },
  {
   "cell_type": "code",
   "execution_count": 8,
   "id": "d3495ca0",
   "metadata": {},
   "outputs": [
    {
     "name": "stderr",
     "output_type": "stream",
     "text": [
      "<>:1: SyntaxWarning: invalid escape sequence '\\h'\n",
      "<>:1: SyntaxWarning: invalid escape sequence '\\h'\n",
      "C:\\Users\\vanget\\AppData\\Local\\Temp\\ipykernel_24076\\4245987443.py:1: SyntaxWarning: invalid escape sequence '\\h'\n",
      "  image = cv2.imread('dataset\\healthy\\Apple__Healthy\\FreshApple (3).jpg')\n"
     ]
    },
    {
     "data": {
      "text/plain": [
       "(2189, 2581, 3)"
      ]
     },
     "execution_count": 8,
     "metadata": {},
     "output_type": "execute_result"
    }
   ],
   "source": [
    "image = cv2.imread('dataset\\healthy\\Apple__Healthy\\FreshApple (3).jpg')\n",
    "image.shape"
   ]
  },
  {
   "cell_type": "code",
   "execution_count": 9,
   "id": "cc51f58f",
   "metadata": {},
   "outputs": [
    {
     "name": "stdout",
     "output_type": "stream",
     "text": [
      "Found 29277 files belonging to 2 classes.\n",
      "Using 23422 files for training.\n",
      "Found 29277 files belonging to 2 classes.\n",
      "Using 5855 files for validation.\n"
     ]
    }
   ],
   "source": [
    "# Data splits using Tensorflow and Keras\n",
    "train_df = tf.keras.preprocessing.image_dataset_from_directory(\n",
    "    \"dataset\",\n",
    "    validation_split=0.2,\n",
    "    subset=\"training\",\n",
    "    seed=123,\n",
    "    image_size=(180, 180),\n",
    "    batch_size=32\n",
    ")\n",
    "\n",
    "val_df = tf.keras.preprocessing.image_dataset_from_directory(\n",
    "    \"dataset\",\n",
    "    validation_split=0.2,\n",
    "    subset=\"validation\",\n",
    "    seed=123,\n",
    "    image_size=(180, 180),\n",
    "    batch_size=32\n",
    ")"
   ]
  },
  {
   "cell_type": "code",
   "execution_count": null,
   "id": "9a7e0a04",
   "metadata": {},
   "outputs": [],
   "source": []
  }
 ],
 "metadata": {
  "kernelspec": {
   "display_name": "base",
   "language": "python",
   "name": "python3"
  },
  "language_info": {
   "codemirror_mode": {
    "name": "ipython",
    "version": 3
   },
   "file_extension": ".py",
   "mimetype": "text/x-python",
   "name": "python",
   "nbconvert_exporter": "python",
   "pygments_lexer": "ipython3",
   "version": "3.12.4"
  }
 },
 "nbformat": 4,
 "nbformat_minor": 5
}
